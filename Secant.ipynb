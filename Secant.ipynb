import numpy as np
import matplotlib.pyplot as plt
from math import e  # Untuk mengambil bilangan eksponen natural (e)

# Mendefinisikan fungsi
def f(x):
    return e**x - 5*x**2

# Metode Secant
def Secant(x0, x1, eps, N):
    step = 1
    condition = True
    while condition:
        if f(x0) == f(x1):
            print("Solusi tidak ditemukan")
            break
        x2 = x1 - ((f(x1) * (x1 - x0)) / (f(x1) - f(x0)))
        print(f"Iterasi-{step}: x = {x2:.8f} dan f(x2) = {f(x2):.8f}")
        x0, x1 = x1, x2
        step += 1
        if step > N:
            print("Divergen")
            break
        condition = abs(f(x2)) > eps
    if abs(f(x2)) <= eps:
        print(f"\nAkar Persamaan tersebut : {x2:.8f} \n")

# Sesi Input Nilai awal yang dikonversi ke pecahan
x0 = float(input("x0 : "))
x1 = float(input("x1 : "))
N = int(input("Max Iter : "))
eps = float(input("epsilon : "))
Secant(x0, x1, eps, N)
